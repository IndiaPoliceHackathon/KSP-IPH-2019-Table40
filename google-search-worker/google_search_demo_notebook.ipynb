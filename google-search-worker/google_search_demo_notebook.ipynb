{
 "cells": [
  {
   "cell_type": "markdown",
   "metadata": {},
   "source": [
    "# Setting up Selenium and logging in"
   ]
  },
  {
   "cell_type": "code",
   "execution_count": null,
   "metadata": {
    "scrolled": true
   },
   "outputs": [],
   "source": [
    "import calendar\n",
    "import os\n",
    "import platform\n",
    "import sys\n",
    "import urllib.request\n",
    "import time\n",
    "\n",
    "from selenium import webdriver\n",
    "from selenium.common.exceptions import TimeoutException, NoSuchElementException\n",
    "from selenium.webdriver.chrome.options import Options\n",
    "from selenium.webdriver.common.by import By\n",
    "from selenium.webdriver.support import expected_conditions as EC\n",
    "from selenium.webdriver.support.ui import WebDriverWait\n",
    "\n",
    "facebook_domain = \"https://facebook.com/\"\n",
    "\n",
    "def safe_find_element_by_id(driver, elem_id):\n",
    "    try:\n",
    "        return driver.find_element_by_id(elem_id)\n",
    "    except NoSuchElementException:\n",
    "        return None\n",
    "\n",
    "def login(email, password, driver):\n",
    "    \"\"\" Logging into our own profile \"\"\"\n",
    "\n",
    "\n",
    "    try:\n",
    "        driver.get(facebook_domain)\n",
    "\n",
    "        # filling the form\n",
    "        driver.find_element_by_name('email').send_keys(email)\n",
    "        driver.find_element_by_name('pass').send_keys(password)\n",
    "\n",
    "        # clicking on login button\n",
    "        driver.find_element_by_id('loginbutton').click()\n",
    "\n",
    "        # if your account uses multi factor authentication\n",
    "        mfa_code_input = safe_find_element_by_id(driver, 'approvals_code')\n",
    "\n",
    "        if mfa_code_input is None:\n",
    "            return\n",
    "\n",
    "        mfa_code_input.send_keys(input(\"Enter MFA code: \"))\n",
    "        driver.find_element_by_id('checkpointSubmitButton').click()\n",
    "\n",
    "        # there are so many screens asking you to verify things. Just skip them all\n",
    "        while safe_find_element_by_id(driver, 'checkpointSubmitButton') is not None:\n",
    "            dont_save_browser_radio = safe_find_element_by_id(driver, 'u_0_3')\n",
    "            if dont_save_browser_radio is not None:\n",
    "                dont_save_browser_radio.click()\n",
    "\n",
    "            driver.find_element_by_id('checkpointSubmitButton').click()\n",
    "\n",
    "    except Exception:\n",
    "        print(\"There's some error in log in.\")\n",
    "        print(sys.exc_info()[0])\n",
    "        \n",
    "def setup_driver():\n",
    "    global driver\n",
    "\n",
    "    options = Options()\n",
    "    options.add_argument(\"--disable-notifications\")\n",
    "    options.add_argument(\"--disable-infobars\")\n",
    "    options.add_argument(\"--mute-audio\")\n",
    "\n",
    "    try:\n",
    "        platform_ = platform.system().lower()\n",
    "        if platform_ in ['linux', 'darwin']:\n",
    "            driver = webdriver.Chrome(\n",
    "                executable_path=\"./chromedriver\", options=options)\n",
    "        else:\n",
    "            driver = webdriver.Chrome(\n",
    "                executable_path=\"./chromedriver.exe\", options=options)\n",
    "    except Exception:\n",
    "        print(\"Kindly replace the Chrome Web Driver with the latest one from \"\n",
    "                \"http://chromedriver.chromium.org/downloads \"\n",
    "                \"and also make sure you have the latest Chrome Browser version.\"\n",
    "                \"\\nYour OS: {}\".format(platform_)\n",
    "                )\n",
    "        exit()\n",
    "    \n",
    "    driver.maximize_window()\n",
    "    \n",
    "\n",
    "setup_driver()\n",
    "login(\"email\", \"password\", driver)"
   ]
  },
  {
   "cell_type": "markdown",
   "metadata": {},
   "source": [
    "# Processing the search engine query"
   ]
  },
  {
   "cell_type": "code",
   "execution_count": null,
   "metadata": {},
   "outputs": [],
   "source": [
    "try: \n",
    "    from googlesearch import search \n",
    "except ImportError:  \n",
    "    print(\"No module named 'google' found\") \n",
    "\n",
    "query = \"Enter your query here\"\n",
    "googled_urls = []\n",
    "for j in search(query, num=10, stop=30, pause=2): \n",
    "    googled_urls.append(j)"
   ]
  },
  {
   "cell_type": "code",
   "execution_count": null,
   "metadata": {},
   "outputs": [],
   "source": [
    "for p in googled_urls:\n",
    "    print(p)"
   ]
  },
  {
   "cell_type": "markdown",
   "metadata": {},
   "source": [
    "# Scraping the Profile for images"
   ]
  },
  {
   "cell_type": "code",
   "execution_count": null,
   "metadata": {},
   "outputs": [],
   "source": [
    "import time\n",
    "import urllib.request\n",
    "count = 0\n",
    "req_urls = []\n",
    "for i in googled_urls:\n",
    "    if(((i.count('/') <= 3) and (i.count('facebook.com') == 1) and (i.count('?') < 1)) or ((i.count('/') ==4) and (i.count('facebook.com') == 1) and (i[-1]=='/'))):\n",
    "        facebook_username = i.split(\"/\")[-1]\n",
    "        driver.get(\"https://facebook.com/\"+facebook_username)\n",
    "        \n",
    "        fileName = str(facebook_username) + \".jpeg\"\n",
    "        driver.find_element_by_id('u_0_v').click()\n",
    "        time.sleep(4)\n",
    "        \n",
    "        try:\n",
    "            element = driver.find_element_by_class_name(\"spotlight\")\n",
    "            img_url = element.get_attribute('src')\n",
    "            print(img_url)\n",
    "        \n",
    "            if img_url.find('.gif') == -1:\n",
    "                try:\n",
    "                    print('----------------')\n",
    "                    req_urls.append(i)\n",
    "                    urllib.request.urlretrieve(img_url, fileName)\n",
    "                except Exception as e:\n",
    "                    print(str(e))\n",
    "        \n",
    "        except:\n",
    "            print(\"-Not found-\")\n",
    "        "
   ]
  },
  {
   "cell_type": "markdown",
   "metadata": {},
   "source": [
    "# Upload target images to s3 for aws rekognition"
   ]
  },
  {
   "cell_type": "code",
   "execution_count": null,
   "metadata": {},
   "outputs": [],
   "source": [
    "import boto3\n",
    "import time\n",
    "# Setting the credentials\n",
    "ACCESS_KEY = 'access key'\n",
    "SECRET_KEY = 'secret key'\n",
    "\n",
    "s3 = boto3.client('s3',\n",
    "                    region_name=\"us-east-1\",\n",
    "                    aws_access_key_id=ACCESS_KEY,\n",
    "                    aws_secret_access_key=SECRET_KEY)\n",
    "\n",
    "for i in req_urls:\n",
    "    if(i.split(\"/\")[-1] == ''):\n",
    "        file_name = i.split(\"/\")[-2]+'.jpeg'\n",
    "    else:\n",
    "        file_name = i.split(\"/\")[-1]+'.jpeg'\n",
    "        \n",
    "    bucket = 'Enter bucket name'\n",
    "    # file_name = 'location-of-your-file'\n",
    "    key_name = file_name\n",
    "    s3.upload_file(file_name, bucket, key_name)"
   ]
  },
  {
   "cell_type": "markdown",
   "metadata": {},
   "source": [
    "# Run the aws Rekognition API "
   ]
  },
  {
   "cell_type": "code",
   "execution_count": null,
   "metadata": {},
   "outputs": [],
   "source": [
    "from IPython.display import Image\n",
    "for i in req_urls:\n",
    "    if(i.split(\"/\")[-1] == ''):\n",
    "        file_name = i.split(\"/\")[-2]+'.jpeg'\n",
    "    else:\n",
    "        file_name = i.split(\"/\")[-1]+'.jpeg'\n",
    "    client = boto3.client(\n",
    "        'rekognition'\n",
    "    )\n",
    "    print(file_name)\n",
    "    response = client.compare_faces(\n",
    "        SimilarityThreshold=50,\n",
    "        SourceImage={\n",
    "            'S3Object': {\n",
    "                'Bucket': 'Enter bucket name',\n",
    "                'Name': 'Image'\n",
    "            }\n",
    "        },\n",
    "        TargetImage={\n",
    "            'S3Object': {\n",
    "                'Bucket': 'Enter bucket name',\n",
    "                'Name': file_name\n",
    "            }\n",
    "        }\n",
    "    )\n",
    "    if(len(response['FaceMatches'])>0):\n",
    "        if((response['FaceMatches'][0]['Similarity'])>90):\n",
    "            print(response['FaceMatches'][0]['Similarity'])\n",
    "            required_username = file_name[:-5]\n",
    "print('Required username',required_username)\n",
    "Image(filename=required_username +'.jpg')"
   ]
  },
  {
   "cell_type": "code",
   "execution_count": null,
   "metadata": {},
   "outputs": [],
   "source": []
  }
 ],
 "metadata": {
  "kernelspec": {
   "display_name": "Python 3",
   "language": "python",
   "name": "python3"
  },
  "language_info": {
   "codemirror_mode": {
    "name": "ipython",
    "version": 3
   },
   "file_extension": ".py",
   "mimetype": "text/x-python",
   "name": "python",
   "nbconvert_exporter": "python",
   "pygments_lexer": "ipython3",
   "version": "3.6.8"
  }
 },
 "nbformat": 4,
 "nbformat_minor": 2
}
